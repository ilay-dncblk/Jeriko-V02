{
 "cells": [
  {
   "cell_type": "code",
   "execution_count": null,
   "metadata": {},
   "outputs": [],
   "source": [
    "#pip3 install torch torchvision torchaudio --index-url https://download.pytorch.org/whl/cu118\n",
    "import torch"
   ]
  },
  {
   "cell_type": "code",
   "execution_count": null,
   "metadata": {},
   "outputs": [],
   "source": [
    "#8. Olumsuz cümleleri, farklı duygusal tonlarla harmanlayarak yeniden yazan bir GAN modeli geliştir. (-)\n",
    "#9. Generator kısmı yeni cümleler üretirken, discriminator bu cümlelerin belirli bir duyguya ait olup olmadığını değerlendirir.(-)\n",
    "#10. Temizlenmiş ve artırılmış veri setini kullanarak bir sentiment analizi modeli eğit.(-)\n",
    "#11. Temel bir LSTM  ve GAN ile üretilmiş verilerle model performansını karşılaştırabilirsin.(-)\n",
    "#12. Temizlenmiş ve artırılmış verinin model performansını nasıl etkilediğini incele.(-)\n",
    "#13. Olumsuz cümlelerin yeniden yazılmasıyla elde edilen verilerin modelin genel doğruluğunu nasıl geliştirdiğini değerlendir.(-)"
   ]
  }
 ],
 "metadata": {
  "language_info": {
   "name": "python"
  }
 },
 "nbformat": 4,
 "nbformat_minor": 2
}
