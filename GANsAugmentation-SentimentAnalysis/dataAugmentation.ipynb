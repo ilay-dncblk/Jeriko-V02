{
 "cells": [
  {
   "cell_type": "code",
   "execution_count": 1,
   "metadata": {},
   "outputs": [],
   "source": [
    "import nltk\n",
    "# NLTK verilerini belirli bir dizine indir\n",
    "nltk.data.path.append('/GANsAugmentation-SentimentAnalysis/nltk_data')  \n",
    "\n",
    "# Gerekli NLTK bileşenlerini indir\n",
    "nltk.download('all', download_dir='/GANsAugmentation-SentimentAnalysis/nltk_data')"
   ]
  },
  {
   "cell_type": "code",
   "execution_count": 2,
   "metadata": {},
   "outputs": [],
   "source": [
    "import numpy as np\n",
    "import pandas as pd\n",
    "\n",
    "train_df=pd.read_csv('ımdb_reviews_train.csv')\n",
    "valid_df=pd.read_csv('ımdb_reviews_valid.csv')\n",
    "df=pd.concat([train_df,valid_df],sort=False)"
   ]
  },
  {
   "cell_type": "code",
   "execution_count": 3,
   "metadata": {},
   "outputs": [
    {
     "name": "stdout",
     "output_type": "stream",
     "text": [
      "veri seti boyutu: (74999, 2)\n",
      "###############################################\n",
      "<class 'pandas.core.frame.DataFrame'>\n",
      "Index: 74999 entries, 0 to 24999\n",
      "Data columns (total 2 columns):\n",
      " #   Column     Non-Null Count  Dtype \n",
      "---  ------     --------------  ----- \n",
      " 0   review     74999 non-null  object\n",
      " 1   sentiment  74999 non-null  object\n",
      "dtypes: object(2)\n",
      "memory usage: 1.7+ MB\n",
      "None\n",
      "###############################################\n",
      "sentiment\n",
      "positive      37488\n",
      "negative      37487\n",
      "1;               11\n",
      "0;                9\n",
      "negative;;        1\n",
      "positive\"         1\n",
      "positive;;        1\n",
      "0\"                1\n",
      "Name: count, dtype: int64\n",
      "###############################################\n",
      "review       0\n",
      "sentiment    0\n",
      "dtype: int64\n"
     ]
    }
   ],
   "source": [
    "print(\"veri seti boyutu:\",df.shape)\n",
    "print(\"###############################################\")\n",
    "print(df.info())\n",
    "print(\"###############################################\")\n",
    "print(df['sentiment'].value_counts())\n",
    "print(\"###############################################\")\n",
    "print(df.isnull().sum())"
   ]
  },
  {
   "cell_type": "code",
   "execution_count": 4,
   "metadata": {},
   "outputs": [
    {
     "name": "stdout",
     "output_type": "stream",
     "text": [
      "sentiment\n",
      "positive    37501\n",
      "negative    37498\n",
      "Name: count, dtype: int64\n"
     ]
    }
   ],
   "source": [
    "# 'sentiment' sütunundaki değerleri düzelt\n",
    "df['sentiment'] = df['sentiment'].replace({\n",
    "    '1;': 'positive',\n",
    "    '0;': 'negative',\n",
    "    'positive\"': 'positive',\n",
    "    'negative;;': 'negative',\n",
    "    'positive;;': 'positive',\n",
    "    '0\"': 'negative',\n",
    "})\n",
    "\n",
    "\n",
    "# Sonuçları kontrol et\n",
    "print(df['sentiment'].value_counts())\n"
   ]
  },
  {
   "cell_type": "code",
   "execution_count": 5,
   "metadata": {},
   "outputs": [],
   "source": [
    "import re\n",
    "\n",
    "def clean_text(text):\n",
    "    # 1.HTML etiketlerini kaldırma\n",
    "    text = re.sub(r'<.*?>', '', text)\n",
    "    \n",
    "    # 2.URL'leri kaldırma\n",
    "    text = re.sub(r'http\\S+|www\\S+|https\\S+', '', text, flags=re.MULTILINE)\n",
    "    \n",
    "    # 3.Gereksiz boşlukları kaldırma\n",
    "    text = re.sub(r'\\s+', ' ', text).strip()\n",
    "    # Başlangıçtaki ve sondaki boşlukları temizle\n",
    "    text = text.strip()\n",
    "    # Cümle içindeki fazla boşlukları temizle\n",
    "    text = ' '.join(text.split())\n",
    "    \n",
    "    # 4. Küçük harflere dönüştür\n",
    "    text = text.lower()\n",
    "    \n",
    "    # 5. Noktalama işaretlerini kaldır\n",
    "    text = re.sub(r'[^\\w\\s]', '', text)\n",
    "\n",
    "    return text"
   ]
  },
  {
   "cell_type": "code",
   "execution_count": 6,
   "metadata": {},
   "outputs": [
    {
     "name": "stdout",
     "output_type": "stream",
     "text": [
      "0    one of the other reviewers has mentioned that ...\n",
      "1    a wonderful little production the filming tech...\n",
      "2    i thought this was a wonderful way to spend ti...\n",
      "3    basically theres a family where a little boy j...\n",
      "4    petter matteis love in the time of money is a ...\n",
      "Name: review, dtype: object\n"
     ]
    }
   ],
   "source": [
    "df['review'] = df['review'].apply(lambda x: clean_text(x))\n",
    "print(df['review'].head())  "
   ]
  },
  {
   "cell_type": "code",
   "execution_count": 7,
   "metadata": {},
   "outputs": [],
   "source": [
    "# Yinelenen kelimeleri temizleme fonksiyonu\n",
    "def remove_duplicate_words(text):\n",
    "    words = text.split()\n",
    "    seen = set()\n",
    "    result = []\n",
    "    for word in words:\n",
    "        if word.lower() not in seen:  # Küçük harf duyarlılığı ile kontrol ediyoruz\n",
    "            seen.add(word.lower())\n",
    "            result.append(word)\n",
    "    return \" \".join(result)\n",
    "\n",
    "# Yinelenen cümleleri temizleme fonksiyonu\n",
    "def remove_duplicate_sentences(text):\n",
    "    sentences = text.split('.')\n",
    "    seen = set()\n",
    "    result = []\n",
    "    for sentence in sentences:\n",
    "        sentence = sentence.strip()\n",
    "        if sentence.lower() not in seen:\n",
    "            seen.add(sentence.lower())\n",
    "            result.append(sentence)\n",
    "    return \". \".join(result)"
   ]
  },
  {
   "cell_type": "code",
   "execution_count": 8,
   "metadata": {},
   "outputs": [
    {
     "name": "stdout",
     "output_type": "stream",
     "text": [
      "0    one of the other reviewers has mentioned that ...\n",
      "1    a wonderful little production the filming tech...\n",
      "2    i thought this was a wonderful way to spend ti...\n",
      "3    basically theres a family where little boy jak...\n",
      "4    petter matteis love in the time of money is a ...\n",
      "Name: review, dtype: object\n"
     ]
    }
   ],
   "source": [
    "# Yinelenen kelimeleri ve cümleleri temizleyelim\n",
    "df['review'] = df['review'].apply(remove_duplicate_words)\n",
    "print(df['review'].head())"
   ]
  },
  {
   "cell_type": "code",
   "execution_count": 13,
   "metadata": {},
   "outputs": [],
   "source": [
    "import language_tool_python\n",
    "\n",
    "# Dil ve yazım hatalarını düzeltme\n",
    "tool = language_tool_python.LanguageTool('en-US')  # 'en-US' ingizce için\n",
    "\n",
    "def correct_spelling_and_grammar(text):\n",
    "    matches = tool.check(text)\n",
    "    corrected_text = language_tool_python.utils.correct(text, matches)\n",
    "    return corrected_text\n"
   ]
  },
  {
   "cell_type": "code",
   "execution_count": 15,
   "metadata": {},
   "outputs": [
    {
     "name": "stdout",
     "output_type": "stream",
     "text": [
      "0    one of the other reviewers has mentioned that ...\n",
      "1    a wonderful little production the filming tech...\n",
      "2    i thought this was a wonderful way to spend ti...\n",
      "3    basically theres a family where little boy jak...\n",
      "4    petter matteis love in the time of money is a ...\n",
      "Name: review, dtype: object\n"
     ]
    }
   ],
   "source": [
    "df['review'] = df['review'].apply(correct_spelling_and_grammar)\n",
    "print(df['review'].head())"
   ]
  },
  {
   "cell_type": "code",
   "execution_count": 16,
   "metadata": {},
   "outputs": [],
   "source": [
    "from nltk.tokenize import word_tokenize\n",
    "from nltk.corpus import wordnet\n",
    "\n",
    "# Sinonimlerle değiştirme\n",
    "def replace_with_synonyms(text):\n",
    "    words = word_tokenize(text)\n",
    "    new_sentence = []\n",
    "    for word in words:\n",
    "        synonyms = wordnet.synsets(word)\n",
    "        if synonyms:\n",
    "            synonym = synonyms[0].lemmas()[0].name()\n",
    "            new_sentence.append(synonym)\n",
    "        else:\n",
    "            new_sentence.append(word)\n",
    "    return \" \".join(new_sentence)"
   ]
  },
  {
   "cell_type": "code",
   "execution_count": 18,
   "metadata": {},
   "outputs": [
    {
     "name": "stdout",
     "output_type": "stream",
     "text": [
      "0    one of the other reviewers has mentioned that ...\n",
      "1    a wonderful little production the filming tech...\n",
      "2    i thought this was a wonderful way to spend ti...\n",
      "3    basically theres a family where little boy jak...\n",
      "4    petter matteis love in the time of money is a ...\n",
      "Name: review, dtype: object\n"
     ]
    }
   ],
   "source": [
    "df['review'] = df['review'].apply(replace_with_synonyms)\n",
    "print(df['review'].head())"
   ]
  },
  {
   "cell_type": "code",
   "execution_count": 19,
   "metadata": {},
   "outputs": [],
   "source": [
    "import random\n",
    "\n",
    "def add_noise(text, noise_words):\n",
    "    words = text.split()\n",
    "    num_words_to_add = int(len(words) * 0.1)  # Metnin %10'u kadar gürültü kelimesi ekle\n",
    "    for _ in range(num_words_to_add):\n",
    "        random_index = random.randint(0, len(words) - 1)\n",
    "        noise_word = random.choice(noise_words)\n",
    "        words.insert(random_index, noise_word)\n",
    "    return ' '.join(words)\n",
    "\n",
    "# Gürültü için kullanılacak kelimeler listesi\n",
    "noise_words = [\n",
    "    'um', 'uh', 'like', 'so', 'you know', 'actually', 'basically',\n",
    "    'seriously', 'literally', 'well', 'honestly', 'truly', 'really',\n",
    "    'I mean', 'basically', 'just', 'kinda', 'sorta', 'probably',\n",
    "    'maybe', 'definitely', 'literally', 'figuratively', 'almost'\n",
    "]"
   ]
  },
  {
   "cell_type": "code",
   "execution_count": 21,
   "metadata": {},
   "outputs": [
    {
     "name": "stdout",
     "output_type": "stream",
     "text": [
      "0    one of the other reviewers has mentioned that ...\n",
      "1    a wonderful little production the filming tech...\n",
      "2    i thought this was a wonderful way to spend ti...\n",
      "3    basically theres a family where little boy jak...\n",
      "4    petter matteis love in the time of money is a ...\n",
      "Name: review, dtype: object\n"
     ]
    }
   ],
   "source": [
    "df['review'] = df['review'].apply(lambda x: add_noise(x, noise_words))\n",
    "print(df['review'].head())"
   ]
  },
  {
   "cell_type": "code",
   "execution_count": 22,
   "metadata": {},
   "outputs": [
    {
     "name": "stderr",
     "output_type": "stream",
     "text": [
      "c:\\Users\\ilayd\\AppData\\Local\\Programs\\Python\\Python312\\Lib\\site-packages\\tqdm\\auto.py:21: TqdmWarning: IProgress not found. Please update jupyter and ipywidgets. See https://ipywidgets.readthedocs.io/en/stable/user_install.html\n",
      "  from .autonotebook import tqdm as notebook_tqdm\n"
     ]
    }
   ],
   "source": [
    "from transformers import pipeline\n",
    "\n",
    "# GAN ile cümle yeniden yazma\n",
    "paraphrase = pipeline(\"text-generation\", model=\"t5-small\")\n"
   ]
  },
  {
   "cell_type": "code",
   "execution_count": null,
   "metadata": {},
   "outputs": [],
   "source": [
    "from transformers import pipeline\n",
    "\n",
    "# Text rewriting için bir pipeline oluşturun\n",
    "text_generator = pipeline(\"text2text-generation\", model=\"facebook/bart-large-cnn\")\n",
    "\n",
    "def rewrite_sentence(sentence):\n",
    "    # Cümleyi yeniden ifade etme\n",
    "    rewritten = text_generator(sentence, max_length=100, num_beams=5, early_stopping=True)\n",
    "    return rewritten[0]['generated_text']\n",
    "\n",
    "# Kullanım örneği\n",
    "sentence = \"Bu bir örnek cümledir.\"\n",
    "rewritten_sentence = rewrite_sentence(sentence)\n",
    "print(\"Orijinal Cümle:\", sentence)\n",
    "print(\"Yeniden İfade Edilmiş Cümle:\", rewritten_sentence)\n"
   ]
  }
 ],
 "metadata": {
  "kernelspec": {
   "display_name": "Python 3",
   "language": "python",
   "name": "python3"
  },
  "language_info": {
   "codemirror_mode": {
    "name": "ipython",
    "version": 3
   },
   "file_extension": ".py",
   "mimetype": "text/x-python",
   "name": "python",
   "nbconvert_exporter": "python",
   "pygments_lexer": "ipython3",
   "version": "3.12.4"
  }
 },
 "nbformat": 4,
 "nbformat_minor": 2
}
